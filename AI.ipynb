{
 "cells": [
  {
   "cell_type": "markdown",
   "metadata": {},
   "source": [
    "## <span style=\"color:pink\">Import libraries</span>"
   ]
  },
  {
   "cell_type": "code",
   "execution_count": null,
   "metadata": {},
   "outputs": [],
   "source": [
    "import pandas as pd\n",
    "import numpy as np \n",
    "import re"
   ]
  },
  {
   "cell_type": "markdown",
   "metadata": {},
   "source": [
    "## <span style=\"color:pink\">Reading the datasets</span>\n",
    "### Parisa"
   ]
  },
  {
   "cell_type": "code",
   "execution_count": null,
   "metadata": {},
   "outputs": [],
   "source": [
    "meta_clean = pd.read_excel('/Users/parisa/Desktop/AI/Final_Assignment/metaClean.xlsx')\n",
    "meta_clean.info()"
   ]
  },
  {
   "cell_type": "code",
   "execution_count": null,
   "metadata": {},
   "outputs": [],
   "source": [
    "meta_clean.head(10)"
   ]
  },
  {
   "cell_type": "markdown",
   "metadata": {},
   "source": [
    "## <span style=\"color:pink\">Cleaning the datasets</span>\n",
    "### Parisa"
   ]
  },
  {
   "cell_type": "markdown",
   "metadata": {},
   "source": [
    "### The title column is cleaned by extracting the movie title from the url column. \n",
    "### This improves the dataset's readability and ensures the title column is clean for analysis."
   ]
  },
  {
   "cell_type": "code",
   "execution_count": null,
   "metadata": {},
   "outputs": [],
   "source": [
    "# Extract title from url\n",
    "def extract_title(url):\n",
    "    # Get the part after the last '/'\n",
    "    raw_title = url.split('/')[-1]\n",
    "    # Replace hyphens with spaces\n",
    "    title = raw_title.replace('-', ' ')\n",
    "    # Capitalize the first letter of each word and retain special formatting\n",
    "    return re.sub(r'(\\d+:\\d+)|\\w+', lambda m: m.group().title(), title)\n",
    "\n",
    "# Apply the improved function to the 'url' column\n",
    "meta_clean['title'] = meta_clean['url'].apply(extract_title)\n",
    "\n",
    "# Save the updated dataset\n",
    "meta_clean.to_excel('/Users/parisa/Desktop/AI/Final_Assignment/metaClean.xlsx', index=False)\n",
    "\n",
    "print(meta_clean[['url', 'title']].head(10))\n"
   ]
  },
  {
   "cell_type": "markdown",
   "metadata": {},
   "source": [
    "### The rating column is cleaned by:\n",
    "\n",
    "#### 1-Removing extra symbols like | and unnecessary spaces.\n",
    "#### 2-Replacing missing values with \"Not Rated\" to ensure consistency.\n",
    "#### 3-Standardizing the format for easier analysis."
   ]
  },
  {
   "cell_type": "code",
   "execution_count": null,
   "metadata": {},
   "outputs": [],
   "source": [
    "# Remove unwanted symbols and clean formatting\n",
    "meta_clean['rating'] = meta_clean['rating'].str.replace('|', '', regex=False).str.strip()\n",
    "\n",
    "# Handle missing values\n",
    "meta_clean['rating'] = meta_clean['rating'].fillna('Not Rated')\n",
    "\n",
    "# Verify the cleaned column\n",
    "print(meta_clean['rating'].value_counts())\n",
    "\n",
    "# Save the updated dataset\n",
    "meta_clean.to_excel('/Users/parisa/Desktop/AI/Final_Assignment/metaClean.xlsx', index=False)\n"
   ]
  },
  {
   "cell_type": "markdown",
   "metadata": {},
   "source": [
    "### The runtime column is cleaned by:\n",
    "\n",
    "#### Filling missing values with the median "
   ]
  },
  {
   "cell_type": "code",
   "execution_count": null,
   "metadata": {},
   "outputs": [],
   "source": [
    "# Replace missing valuse with median\n",
    "median_runtime = meta_clean['runtime'].median()\n",
    "meta_clean['runtime'] = meta_clean['runtime'].fillna(median_runtime)\n",
    "\n",
    "meta_clean.to_excel('/Users/parisa/Desktop/AI/Final_Assignment/metaClean.xlsx', index=False)\n",
    "\n",
    "print(meta_clean.head())"
   ]
  }
 ],
 "metadata": {
  "kernelspec": {
   "display_name": "introduction",
   "language": "python",
   "name": "python3"
  },
  "language_info": {
   "codemirror_mode": {
    "name": "ipython",
    "version": 3
   },
   "file_extension": ".py",
   "mimetype": "text/x-python",
   "name": "python",
   "nbconvert_exporter": "python",
   "pygments_lexer": "ipython3",
   "version": "3.11.9"
  }
 },
 "nbformat": 4,
 "nbformat_minor": 2
}
