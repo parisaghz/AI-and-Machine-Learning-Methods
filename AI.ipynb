{
 "cells": [
  {
   "cell_type": "markdown",
   "metadata": {},
   "source": [
    "## <span style=\"color:pink\">Import libraries</span>"
   ]
  },
  {
   "cell_type": "code",
   "execution_count": null,
   "metadata": {},
   "outputs": [],
   "source": [
    "import pandas as pd\n",
    "import numpy as np \n",
    "import re"
   ]
  },
  {
   "cell_type": "markdown",
   "metadata": {},
   "source": [
    "## <span style=\"color:pink\">Reading the datasets</span>\n",
    "### Parisa"
   ]
  },
  {
   "cell_type": "code",
   "execution_count": null,
   "metadata": {},
   "outputs": [],
   "source": [
    "meta_clean = pd.read_excel('/Users/parisa/Desktop/AI/Final_Assignment/metaClean.xlsx')\n",
    "meta_clean.info()"
   ]
  },
  {
   "cell_type": "code",
   "execution_count": null,
   "metadata": {},
   "outputs": [],
   "source": [
    "meta_clean.head(10)"
   ]
  },
  {
   "cell_type": "markdown",
   "metadata": {},
   "source": [
    "## <span style=\"color:pink\">Cleaning the datasets</span>\n",
    "### Parisa"
   ]
  },
  {
   "cell_type": "markdown",
   "metadata": {},
   "source": [
    "### The title column is cleaned by extracting the movie title from the url column. \n",
    "### This improves the dataset's readability and ensures the title column is clean for analysis."
   ]
  },
  {
   "cell_type": "code",
   "execution_count": null,
   "metadata": {},
   "outputs": [],
   "source": [
    "# Extract title from url\n",
    "def extract_title(url):\n",
    "    # Get the part after the last '/'\n",
    "    raw_title = url.split('/')[-1]\n",
    "    # Replace hyphens with spaces\n",
    "    title = raw_title.replace('-', ' ')\n",
    "    # Capitalize the first letter of each word and retain special formatting\n",
    "    return re.sub(r'(\\d+:\\d+)|\\w+', lambda m: m.group().title(), title)\n",
    "\n",
    "# Apply the improved function to the 'url' column\n",
    "meta_clean['title'] = meta_clean['url'].apply(extract_title)\n",
    "\n",
    "# Save the updated dataset\n",
    "meta_clean.to_excel('/Users/parisa/Desktop/AI/Final_Assignment/metaClean.xlsx', index=False)\n",
    "\n",
    "print(meta_clean[['url', 'title']].head(10))\n"
   ]
  },
  {
   "cell_type": "markdown",
   "metadata": {},
   "source": [
    "### The rating column is cleaned by:\n",
    "\n",
    "#### 1-Removing extra symbols like | and unnecessary spaces.\n",
    "#### 2-Replacing missing values with \"Not Rated\" to ensure consistency.\n",
    "#### 3-Standardizing the format for easier analysis."
   ]
  },
  {
   "cell_type": "code",
   "execution_count": 17,
   "metadata": {},
   "outputs": [
    {
     "name": "stdout",
     "output_type": "stream",
     "text": [
      "rating\n",
      "Not Rated    4027\n",
      "R            3515\n",
      "PG-13        2025\n",
      "PG            816\n",
      "Unrated       384\n",
      "TV-MA         200\n",
      "NR            128\n",
      "G             124\n",
      "TV-14          56\n",
      "NC-17          40\n",
      "TV-PG          23\n",
      "TV-G            7\n",
      "PG--13          5\n",
      "Open            5\n",
      "Approved        4\n",
      "M               2\n",
      "MA-17           1\n",
      "PG-13`          1\n",
      "M/PG            1\n",
      "Name: count, dtype: int64\n"
     ]
    }
   ],
   "source": [
    "# Remove unwanted symbols and clean formatting\n",
    "meta_clean['rating'] = meta_clean['rating'].str.replace('|', '', regex=False).str.strip()\n",
    "\n",
    "# Handle missing values\n",
    "meta_clean['rating'] = meta_clean['rating'].fillna('Not Rated')\n",
    "\n",
    "# Verify the cleaned column\n",
    "print(meta_clean['rating'].value_counts())\n",
    "\n",
    "# Save the updated dataset\n",
    "meta_clean.to_excel('/Users/parisa/Desktop/AI/Final_Assignment/metaClean.xlsx', index=False)\n"
   ]
  },
  {
   "cell_type": "markdown",
   "metadata": {},
   "source": [
    "### The runtime column is cleaned by:\n",
    "\n",
    "#### Filling missing values with the median "
   ]
  },
  {
   "cell_type": "code",
   "execution_count": 18,
   "metadata": {},
   "outputs": [
    {
     "name": "stdout",
     "output_type": "stream",
     "text": [
      "                                                 url                  title  \\\n",
      "0  https://www.metacritic.com/movie/!women-art-re...  !Women Art Revolution   \n",
      "1  https://www.metacritic.com/movie/10-cloverfiel...    10 Cloverfield Lane   \n",
      "2  https://www.metacritic.com/movie/10-items-or-less       10 Items Or Less   \n",
      "3          https://www.metacritic.com/movie/10-years               10 Years   \n",
      "4  https://www.metacritic.com/movie/100-bloody-acres       100 Bloody Acres   \n",
      "\n",
      "                     studio     rating  runtime  \\\n",
      "0       Hotwire Productions  Not Rated     83.0   \n",
      "1        Paramount Pictures      PG-13    104.0   \n",
      "2                Click Star          R     82.0   \n",
      "3  Anchor Bay Entertainment          R    100.0   \n",
      "4           Music Box Films  Not Rated     91.0   \n",
      "\n",
      "                                                cast              director  \\\n",
      "0                                                NaN  Lynn Hershman-Leeson   \n",
      "1  John Gallagher Jr.,John Goodman,Mary Elizabeth...      Dan Trachtenberg   \n",
      "2                 Jonah Hill,Morgan Freeman,Paz Vega       Brad Silberling   \n",
      "3             Channing Tatum,Chris Pratt,Jenna Dewan          Jamie Linden   \n",
      "4                                                NaN       Cameron Cairnes   \n",
      "\n",
      "                                         genre  \\\n",
      "0                                  Documentary   \n",
      "1  Action,Sci-Fi,Drama,Mystery,Thriller,Horror   \n",
      "2                         Drama,Comedy,Romance   \n",
      "3                         Drama,Comedy,Romance   \n",
      "4                                Horror,Comedy   \n",
      "\n",
      "                                             summary  \\\n",
      "0                                                NaN   \n",
      "1  Waking up from a car accident, a young woman (...   \n",
      "2  While researching a role as a supermarket mana...   \n",
      "3                                                NaN   \n",
      "4  Reg and Lindsay run an organic fertilizer busi...   \n",
      "\n",
      "                                              awards  metascore  userscore  \\\n",
      "0                                                NaN         70        NaN   \n",
      "1  #18MostDiscussedMovieof2016 , #1MostSharedMovi...         76        7.7   \n",
      "2                                                NaN         54        5.8   \n",
      "3                                                NaN         61        6.9   \n",
      "4                                                NaN         63        7.5   \n",
      "\n",
      "     RelDate  \n",
      "0 2011-06-01  \n",
      "1 2016-03-11  \n",
      "2 2006-12-01  \n",
      "3 2012-09-14  \n",
      "4 2013-06-28  \n"
     ]
    }
   ],
   "source": [
    "# Replace missing valuse with median\n",
    "median_runtime = meta_clean['runtime'].median()\n",
    "meta_clean['runtime'] = meta_clean['runtime'].fillna(median_runtime)\n",
    "\n",
    "meta_clean.to_excel('/Users/parisa/Desktop/AI/Final_Assignment/metaClean.xlsx', index=False)\n",
    "\n",
    "print(meta_clean.head())"
   ]
  }
 ],
 "metadata": {
  "kernelspec": {
   "display_name": "introduction",
   "language": "python",
   "name": "python3"
  },
  "language_info": {
   "codemirror_mode": {
    "name": "ipython",
    "version": 3
   },
   "file_extension": ".py",
   "mimetype": "text/x-python",
   "name": "python",
   "nbconvert_exporter": "python",
   "pygments_lexer": "ipython3",
   "version": "3.11.9"
  }
 },
 "nbformat": 4,
 "nbformat_minor": 2
}
