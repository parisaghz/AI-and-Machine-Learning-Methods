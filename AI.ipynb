{
 "cells": [
  {
   "cell_type": "markdown",
   "metadata": {},
   "source": [
    "## <span style=\"color:pink\">Import libraries</span>"
   ]
  },
  {
   "cell_type": "code",
   "execution_count": 2,
   "metadata": {},
   "outputs": [],
   "source": [
    "import pandas as pd\n",
    "import numpy as np "
   ]
  },
  {
   "cell_type": "markdown",
   "metadata": {},
   "source": [
    "## <span style=\"color:pink\">Reading datasets</span>"
   ]
  },
  {
   "cell_type": "code",
   "execution_count": 3,
   "metadata": {},
   "outputs": [
    {
     "name": "stdout",
     "output_type": "stream",
     "text": [
      "<class 'pandas.core.frame.DataFrame'>\n",
      "RangeIndex: 11364 entries, 0 to 11363\n",
      "Data columns (total 13 columns):\n",
      " #   Column     Non-Null Count  Dtype         \n",
      "---  ------     --------------  -----         \n",
      " 0   url        11364 non-null  object        \n",
      " 1   title      11364 non-null  object        \n",
      " 2   studio     11014 non-null  object        \n",
      " 3   rating     10297 non-null  object        \n",
      " 4   runtime    11109 non-null  float64       \n",
      " 5   cast       7662 non-null   object        \n",
      " 6   director   11350 non-null  object        \n",
      " 7   genre      11344 non-null  object        \n",
      " 8   summary    5467 non-null   object        \n",
      " 9   awards     4387 non-null   object        \n",
      " 10  metascore  11364 non-null  int64         \n",
      " 11  userscore  9259 non-null   float64       \n",
      " 12  RelDate    11364 non-null  datetime64[ns]\n",
      "dtypes: datetime64[ns](1), float64(2), int64(1), object(9)\n",
      "memory usage: 1.1+ MB\n"
     ]
    }
   ],
   "source": [
    "meta_clean = pd.read_excel(\"/Users/arezoo/Documents/Python/projects/AI/AIassignmnet/AIdatasets/metaClean43Brightspace.xlsx\")\n",
    "meta_clean.info()"
   ]
  },
  {
   "cell_type": "code",
   "execution_count": 4,
   "metadata": {},
   "outputs": [
    {
     "name": "stdout",
     "output_type": "stream",
     "text": [
      "<class 'pandas.core.frame.DataFrame'>\n",
      "RangeIndex: 30612 entries, 0 to 30611\n",
      "Data columns (total 16 columns):\n",
      " #   Column                    Non-Null Count  Dtype  \n",
      "---  ------                    --------------  -----  \n",
      " 0   year                      30612 non-null  int64  \n",
      " 1   release_date              30612 non-null  object \n",
      " 2   title                     30604 non-null  object \n",
      " 3   genre                     28908 non-null  object \n",
      " 4   international_box_office  21575 non-null  float64\n",
      " 5   domestic_box_office       11884 non-null  float64\n",
      " 6   worldwide_box_office      21575 non-null  float64\n",
      " 7   production_budget         4480 non-null   float64\n",
      " 8   Unnamed: 8                0 non-null      float64\n",
      " 9   opening_weekend           10929 non-null  float64\n",
      " 10  theatre_count             10963 non-null  float64\n",
      " 11  avg run per theatre       10952 non-null  float64\n",
      " 12  runtime                   24559 non-null  float64\n",
      " 13  keywords                  12517 non-null  object \n",
      " 14  creative_type             26667 non-null  object \n",
      " 15  url                       30612 non-null  object \n",
      "dtypes: float64(9), int64(1), object(6)\n",
      "memory usage: 3.7+ MB\n"
     ]
    }
   ],
   "source": [
    "sales = pd.read_excel(\"/Users/arezoo/Documents/Python/projects/AI/AIassignmnet/AIdatasets/sales.xlsx\")\n",
    "sales.info()"
   ]
  },
  {
   "cell_type": "code",
   "execution_count": 5,
   "metadata": {},
   "outputs": [
    {
     "name": "stdout",
     "output_type": "stream",
     "text": [
      "<class 'pandas.core.frame.DataFrame'>\n",
      "RangeIndex: 319662 entries, 0 to 319661\n",
      "Data columns (total 7 columns):\n",
      " #   Column     Non-Null Count   Dtype \n",
      "---  ------     --------------   ----- \n",
      " 0   url        319662 non-null  object\n",
      " 1   idvscore   316258 non-null  object\n",
      " 2   reviewer   316255 non-null  object\n",
      " 3   dateP      316249 non-null  object\n",
      " 4   Rev        316249 non-null  object\n",
      " 5   thumbsUp   316082 non-null  object\n",
      " 6   thumbsTot  316086 non-null  object\n",
      "dtypes: object(7)\n",
      "memory usage: 17.1+ MB\n"
     ]
    }
   ],
   "source": [
    "user_reviews = pd.read_excel(\"/Users/arezoo/Documents/Python/projects/AI/AIassignmnet/AIdatasets/UserReviews.xlsx\")\n",
    "user_reviews.info()"
   ]
  },
  {
   "cell_type": "code",
   "execution_count": 6,
   "metadata": {},
   "outputs": [
    {
     "name": "stdout",
     "output_type": "stream",
     "text": [
      "<class 'pandas.core.frame.DataFrame'>\n",
      "RangeIndex: 238973 entries, 0 to 238972\n",
      "Data columns (total 5 columns):\n",
      " #   Column    Non-Null Count   Dtype  \n",
      "---  ------    --------------   -----  \n",
      " 0   url       238973 non-null  object \n",
      " 1   idvscore  238971 non-null  float64\n",
      " 2   reviewer  238971 non-null  object \n",
      " 3   dateP     238971 non-null  object \n",
      " 4   Rev       238971 non-null  object \n",
      "dtypes: float64(1), object(4)\n",
      "memory usage: 9.1+ MB\n"
     ]
    }
   ],
   "source": [
    "expert_reviews = pd.read_excel(\"/Users/arezoo/Documents/Python/projects/AI/AIassignmnet/AIdatasets/expertReviews.xlsx\")\n",
    "expert_reviews.info()"
   ]
  },
  {
   "cell_type": "markdown",
   "metadata": {},
   "source": [
    "## <span style=\"color:pink\">EDA</span>"
   ]
  },
  {
   "cell_type": "code",
   "execution_count": null,
   "metadata": {},
   "outputs": [],
   "source": [
    "user_reviews.head()"
   ]
  }
 ],
 "metadata": {
  "kernelspec": {
   "display_name": "introduction",
   "language": "python",
   "name": "python3"
  },
  "language_info": {
   "codemirror_mode": {
    "name": "ipython",
    "version": 3
   },
   "file_extension": ".py",
   "mimetype": "text/x-python",
   "name": "python",
   "nbconvert_exporter": "python",
   "pygments_lexer": "ipython3",
   "version": "3.8.20"
  }
 },
 "nbformat": 4,
 "nbformat_minor": 2
}
