{
 "cells": [
  {
   "cell_type": "markdown",
   "metadata": {},
   "source": [
    "## <span style=\"color:pink\">Import libraries</span>"
   ]
  },
  {
   "cell_type": "code",
   "execution_count": 2,
   "metadata": {},
   "outputs": [],
   "source": [
    "import pandas as pd\n",
    "import numpy as np "
   ]
  },
  {
   "cell_type": "markdown",
   "metadata": {},
   "source": [
    "## <span style=\"color:pink\">Reading datasets</span>\n",
    "### Parisa"
   ]
  },
  {
   "cell_type": "code",
   "execution_count": 4,
   "metadata": {},
   "outputs": [
    {
     "name": "stdout",
     "output_type": "stream",
     "text": [
      "<class 'pandas.core.frame.DataFrame'>\n",
      "RangeIndex: 11364 entries, 0 to 11363\n",
      "Data columns (total 13 columns):\n",
      " #   Column     Non-Null Count  Dtype         \n",
      "---  ------     --------------  -----         \n",
      " 0   url        11364 non-null  object        \n",
      " 1   title      11364 non-null  object        \n",
      " 2   studio     11014 non-null  object        \n",
      " 3   rating     10297 non-null  object        \n",
      " 4   runtime    11109 non-null  float64       \n",
      " 5   cast       7662 non-null   object        \n",
      " 6   director   11350 non-null  object        \n",
      " 7   genre      11344 non-null  object        \n",
      " 8   summary    5467 non-null   object        \n",
      " 9   awards     4387 non-null   object        \n",
      " 10  metascore  11364 non-null  int64         \n",
      " 11  userscore  9259 non-null   float64       \n",
      " 12  RelDate    11364 non-null  datetime64[ns]\n",
      "dtypes: datetime64[ns](1), float64(2), int64(1), object(9)\n",
      "memory usage: 1.1+ MB\n"
     ]
    },
    {
     "data": {
      "text/html": [
       "<div>\n",
       "<style scoped>\n",
       "    .dataframe tbody tr th:only-of-type {\n",
       "        vertical-align: middle;\n",
       "    }\n",
       "\n",
       "    .dataframe tbody tr th {\n",
       "        vertical-align: top;\n",
       "    }\n",
       "\n",
       "    .dataframe thead th {\n",
       "        text-align: right;\n",
       "    }\n",
       "</style>\n",
       "<table border=\"1\" class=\"dataframe\">\n",
       "  <thead>\n",
       "    <tr style=\"text-align: right;\">\n",
       "      <th></th>\n",
       "      <th>url</th>\n",
       "      <th>title</th>\n",
       "      <th>studio</th>\n",
       "      <th>rating</th>\n",
       "      <th>runtime</th>\n",
       "      <th>cast</th>\n",
       "      <th>director</th>\n",
       "      <th>genre</th>\n",
       "      <th>summary</th>\n",
       "      <th>awards</th>\n",
       "      <th>metascore</th>\n",
       "      <th>userscore</th>\n",
       "      <th>RelDate</th>\n",
       "    </tr>\n",
       "  </thead>\n",
       "  <tbody>\n",
       "    <tr>\n",
       "      <th>0</th>\n",
       "      <td>https://www.metacritic.com/movie/!women-art-re...</td>\n",
       "      <td>!Women Art Revolution</td>\n",
       "      <td>Hotwire Productions</td>\n",
       "      <td>| Not Rated</td>\n",
       "      <td>83.0</td>\n",
       "      <td>NaN</td>\n",
       "      <td>Lynn Hershman-Leeson</td>\n",
       "      <td>Documentary</td>\n",
       "      <td>NaN</td>\n",
       "      <td>NaN</td>\n",
       "      <td>70</td>\n",
       "      <td>NaN</td>\n",
       "      <td>2011-06-01</td>\n",
       "    </tr>\n",
       "    <tr>\n",
       "      <th>1</th>\n",
       "      <td>https://www.metacritic.com/movie/10-cloverfiel...</td>\n",
       "      <td>10 Cloverfield Lane</td>\n",
       "      <td>Paramount Pictures</td>\n",
       "      <td>| PG-13</td>\n",
       "      <td>104.0</td>\n",
       "      <td>John Gallagher Jr.,John Goodman,Mary Elizabeth...</td>\n",
       "      <td>Dan Trachtenberg</td>\n",
       "      <td>Action,Sci-Fi,Drama,Mystery,Thriller,Horror</td>\n",
       "      <td>Waking up from a car accident, a young woman (...</td>\n",
       "      <td>#18MostDiscussedMovieof2016 , #1MostSharedMovi...</td>\n",
       "      <td>76</td>\n",
       "      <td>7.7</td>\n",
       "      <td>2016-03-11</td>\n",
       "    </tr>\n",
       "    <tr>\n",
       "      <th>2</th>\n",
       "      <td>https://www.metacritic.com/movie/10-items-or-less</td>\n",
       "      <td>10 Items or Less</td>\n",
       "      <td>Click Star</td>\n",
       "      <td>| R</td>\n",
       "      <td>82.0</td>\n",
       "      <td>Jonah Hill,Morgan Freeman,Paz Vega</td>\n",
       "      <td>Brad Silberling</td>\n",
       "      <td>Drama,Comedy,Romance</td>\n",
       "      <td>While researching a role as a supermarket mana...</td>\n",
       "      <td>NaN</td>\n",
       "      <td>54</td>\n",
       "      <td>5.8</td>\n",
       "      <td>2006-12-01</td>\n",
       "    </tr>\n",
       "    <tr>\n",
       "      <th>3</th>\n",
       "      <td>https://www.metacritic.com/movie/10-years</td>\n",
       "      <td>10 Years</td>\n",
       "      <td>Anchor Bay Entertainment</td>\n",
       "      <td>| R</td>\n",
       "      <td>100.0</td>\n",
       "      <td>Channing Tatum,Chris Pratt,Jenna Dewan</td>\n",
       "      <td>Jamie Linden</td>\n",
       "      <td>Drama,Comedy,Romance</td>\n",
       "      <td>NaN</td>\n",
       "      <td>NaN</td>\n",
       "      <td>61</td>\n",
       "      <td>6.9</td>\n",
       "      <td>2012-09-14</td>\n",
       "    </tr>\n",
       "    <tr>\n",
       "      <th>4</th>\n",
       "      <td>https://www.metacritic.com/movie/100-bloody-acres</td>\n",
       "      <td>100 Bloody Acres</td>\n",
       "      <td>Music Box Films</td>\n",
       "      <td>| Not Rated</td>\n",
       "      <td>91.0</td>\n",
       "      <td>NaN</td>\n",
       "      <td>Cameron Cairnes</td>\n",
       "      <td>Horror,Comedy</td>\n",
       "      <td>Reg and Lindsay run an organic fertilizer busi...</td>\n",
       "      <td>NaN</td>\n",
       "      <td>63</td>\n",
       "      <td>7.5</td>\n",
       "      <td>2013-06-28</td>\n",
       "    </tr>\n",
       "    <tr>\n",
       "      <th>5</th>\n",
       "      <td>https://www.metacritic.com/movie/100-streets</td>\n",
       "      <td>100 Streets</td>\n",
       "      <td>Samuel Goldwyn Films</td>\n",
       "      <td>NaN</td>\n",
       "      <td>93.0</td>\n",
       "      <td>NaN</td>\n",
       "      <td>Jim O'Hanlon</td>\n",
       "      <td>Drama</td>\n",
       "      <td>NaN</td>\n",
       "      <td>NaN</td>\n",
       "      <td>44</td>\n",
       "      <td>6.1</td>\n",
       "      <td>2017-01-13</td>\n",
       "    </tr>\n",
       "    <tr>\n",
       "      <th>6</th>\n",
       "      <td>https://www.metacritic.com/movie/1000-times-go...</td>\n",
       "      <td>1,000 Times Good Night</td>\n",
       "      <td>Film Movement</td>\n",
       "      <td>| Not Rated</td>\n",
       "      <td>117.0</td>\n",
       "      <td>NaN</td>\n",
       "      <td>Erik Poppe</td>\n",
       "      <td>Drama</td>\n",
       "      <td>NaN</td>\n",
       "      <td>NaN</td>\n",
       "      <td>57</td>\n",
       "      <td>6.8</td>\n",
       "      <td>2014-10-24</td>\n",
       "    </tr>\n",
       "    <tr>\n",
       "      <th>7</th>\n",
       "      <td>https://www.metacritic.com/movie/10000-bc</td>\n",
       "      <td>10,000 BC</td>\n",
       "      <td>Warner Bros. Pictures</td>\n",
       "      <td>| PG-13</td>\n",
       "      <td>109.0</td>\n",
       "      <td>Camilla Belle,Marco Khan,Steven Strait</td>\n",
       "      <td>Roland Emmerich</td>\n",
       "      <td>Adventure,Drama,Fantasy</td>\n",
       "      <td>NaN</td>\n",
       "      <td>#23MostDiscussedMovieof2008 , #27MostSharedMov...</td>\n",
       "      <td>34</td>\n",
       "      <td>4.6</td>\n",
       "      <td>2008-03-07</td>\n",
       "    </tr>\n",
       "    <tr>\n",
       "      <th>8</th>\n",
       "      <td>https://www.metacritic.com/movie/10000-km</td>\n",
       "      <td>10,000 km</td>\n",
       "      <td>Broad Green Pictures</td>\n",
       "      <td>| R</td>\n",
       "      <td>99.0</td>\n",
       "      <td>NaN</td>\n",
       "      <td>Carlos Marques-Marcet</td>\n",
       "      <td>Drama,Comedy,Romance</td>\n",
       "      <td>Two people in love, two apartments - one in Ba...</td>\n",
       "      <td>NaN</td>\n",
       "      <td>75</td>\n",
       "      <td>7.4</td>\n",
       "      <td>2015-07-10</td>\n",
       "    </tr>\n",
       "    <tr>\n",
       "      <th>9</th>\n",
       "      <td>https://www.metacritic.com/movie/1001-grams</td>\n",
       "      <td>1001 Grams</td>\n",
       "      <td>Kino Lorber</td>\n",
       "      <td>| Not Rated</td>\n",
       "      <td>93.0</td>\n",
       "      <td>NaN</td>\n",
       "      <td>Bent Hamer</td>\n",
       "      <td>Drama</td>\n",
       "      <td>When Norwegian scientist Marie attends a semin...</td>\n",
       "      <td>NaN</td>\n",
       "      <td>65</td>\n",
       "      <td>NaN</td>\n",
       "      <td>2015-05-08</td>\n",
       "    </tr>\n",
       "  </tbody>\n",
       "</table>\n",
       "</div>"
      ],
      "text/plain": [
       "                                                 url                   title  \\\n",
       "0  https://www.metacritic.com/movie/!women-art-re...   !Women Art Revolution   \n",
       "1  https://www.metacritic.com/movie/10-cloverfiel...     10 Cloverfield Lane   \n",
       "2  https://www.metacritic.com/movie/10-items-or-less        10 Items or Less   \n",
       "3          https://www.metacritic.com/movie/10-years                10 Years   \n",
       "4  https://www.metacritic.com/movie/100-bloody-acres        100 Bloody Acres   \n",
       "5       https://www.metacritic.com/movie/100-streets             100 Streets   \n",
       "6  https://www.metacritic.com/movie/1000-times-go...  1,000 Times Good Night   \n",
       "7          https://www.metacritic.com/movie/10000-bc               10,000 BC   \n",
       "8          https://www.metacritic.com/movie/10000-km               10,000 km   \n",
       "9        https://www.metacritic.com/movie/1001-grams              1001 Grams   \n",
       "\n",
       "                     studio       rating  runtime  \\\n",
       "0       Hotwire Productions  | Not Rated     83.0   \n",
       "1        Paramount Pictures      | PG-13    104.0   \n",
       "2                Click Star          | R     82.0   \n",
       "3  Anchor Bay Entertainment          | R    100.0   \n",
       "4           Music Box Films  | Not Rated     91.0   \n",
       "5      Samuel Goldwyn Films          NaN     93.0   \n",
       "6             Film Movement  | Not Rated    117.0   \n",
       "7     Warner Bros. Pictures      | PG-13    109.0   \n",
       "8      Broad Green Pictures          | R     99.0   \n",
       "9               Kino Lorber  | Not Rated     93.0   \n",
       "\n",
       "                                                cast               director  \\\n",
       "0                                                NaN   Lynn Hershman-Leeson   \n",
       "1  John Gallagher Jr.,John Goodman,Mary Elizabeth...       Dan Trachtenberg   \n",
       "2                 Jonah Hill,Morgan Freeman,Paz Vega        Brad Silberling   \n",
       "3             Channing Tatum,Chris Pratt,Jenna Dewan           Jamie Linden   \n",
       "4                                                NaN        Cameron Cairnes   \n",
       "5                                                NaN           Jim O'Hanlon   \n",
       "6                                                NaN             Erik Poppe   \n",
       "7             Camilla Belle,Marco Khan,Steven Strait        Roland Emmerich   \n",
       "8                                                NaN  Carlos Marques-Marcet   \n",
       "9                                                NaN             Bent Hamer   \n",
       "\n",
       "                                         genre  \\\n",
       "0                                  Documentary   \n",
       "1  Action,Sci-Fi,Drama,Mystery,Thriller,Horror   \n",
       "2                         Drama,Comedy,Romance   \n",
       "3                         Drama,Comedy,Romance   \n",
       "4                                Horror,Comedy   \n",
       "5                                        Drama   \n",
       "6                                        Drama   \n",
       "7                      Adventure,Drama,Fantasy   \n",
       "8                         Drama,Comedy,Romance   \n",
       "9                                        Drama   \n",
       "\n",
       "                                             summary  \\\n",
       "0                                                NaN   \n",
       "1  Waking up from a car accident, a young woman (...   \n",
       "2  While researching a role as a supermarket mana...   \n",
       "3                                                NaN   \n",
       "4  Reg and Lindsay run an organic fertilizer busi...   \n",
       "5                                                NaN   \n",
       "6                                                NaN   \n",
       "7                                                NaN   \n",
       "8  Two people in love, two apartments - one in Ba...   \n",
       "9  When Norwegian scientist Marie attends a semin...   \n",
       "\n",
       "                                              awards  metascore  userscore  \\\n",
       "0                                                NaN         70        NaN   \n",
       "1  #18MostDiscussedMovieof2016 , #1MostSharedMovi...         76        7.7   \n",
       "2                                                NaN         54        5.8   \n",
       "3                                                NaN         61        6.9   \n",
       "4                                                NaN         63        7.5   \n",
       "5                                                NaN         44        6.1   \n",
       "6                                                NaN         57        6.8   \n",
       "7  #23MostDiscussedMovieof2008 , #27MostSharedMov...         34        4.6   \n",
       "8                                                NaN         75        7.4   \n",
       "9                                                NaN         65        NaN   \n",
       "\n",
       "     RelDate  \n",
       "0 2011-06-01  \n",
       "1 2016-03-11  \n",
       "2 2006-12-01  \n",
       "3 2012-09-14  \n",
       "4 2013-06-28  \n",
       "5 2017-01-13  \n",
       "6 2014-10-24  \n",
       "7 2008-03-07  \n",
       "8 2015-07-10  \n",
       "9 2015-05-08  "
      ]
     },
     "execution_count": 4,
     "metadata": {},
     "output_type": "execute_result"
    }
   ],
   "source": [
    "meta_clean = pd.read_excel(r\"C:\\Users\\User\\Desktop\\AI\\assignmentDataset\\metaClean.xlsx\")\n",
    "meta_clean.info()\n",
    "meta_clean.head(10)"
   ]
  },
  {
   "cell_type": "markdown",
   "metadata": {},
   "source": [
    "## <span style=\"color:pink\">Cleaning the datasets</span>\n",
    "### ghazaleh"
   ]
  },
  {
   "cell_type": "markdown",
   "metadata": {},
   "source": [
    "We dropped the title column because we can extract the movie names from the url, and it may contain special characters or inconsistencies that could complicate the analysis."
   ]
  },
  {
   "cell_type": "code",
   "execution_count": 6,
   "metadata": {},
   "outputs": [],
   "source": [
    "#ghazaleh\n",
    "# Drop the 'title' column, ensuring the name matches exactly\n",
    "meta_clean = meta_clean.drop(columns=['title'], errors='ignore')"
   ]
  },
  {
   "cell_type": "markdown",
   "metadata": {},
   "source": [
    "We drop the genre column because we will use the genre information from the sales dataset instead."
   ]
  },
  {
   "cell_type": "code",
   "execution_count": 8,
   "metadata": {},
   "outputs": [],
   "source": [
    "#ghazaleh\n",
    "# Drop the 'genre' column\n",
    "metaClean = meta_clean.drop(columns=['genre'], errors='ignore')"
   ]
  },
  {
   "cell_type": "markdown",
   "metadata": {},
   "source": [
    "We drop the awards column because it reflects post-release achievements and does not provide useful information for predicting whether a movie will be a blockbuster."
   ]
  },
  {
   "cell_type": "code",
   "execution_count": 9,
   "metadata": {},
   "outputs": [],
   "source": [
    "#ghazaleh\n",
    "# Drop the 'awards' column\n",
    "metaClean = metaClean.drop(columns=['awards'], errors='ignore')"
   ]
  },
  {
   "cell_type": "markdown",
   "metadata": {},
   "source": [
    "We drop the metascore column because it shows critics' reviews after the movie is released, so it doesn’t help predict if the movie will be a blockbuster."
   ]
  },
  {
   "cell_type": "code",
   "execution_count": 10,
   "metadata": {},
   "outputs": [],
   "source": [
    "#ghazaleh\n",
    "# Drop the 'metascore' column\n",
    "metaClean = metaClean.drop(columns=['metascore'], errors='ignore')"
   ]
  },
  {
   "cell_type": "markdown",
   "metadata": {},
   "source": [
    "We drop the userscore column because it shows audience reviews after the movie is released, so it doesn’t help predict if the movie will be a blockbuster."
   ]
  },
  {
   "cell_type": "code",
   "execution_count": 11,
   "metadata": {},
   "outputs": [],
   "source": [
    "#ghazaleh\n",
    "# Drop the 'userscore' column\n",
    "metaClean = metaClean.drop(columns=['userscore'], errors='ignore')"
   ]
  },
  {
   "cell_type": "markdown",
   "metadata": {},
   "source": [
    "We convert the RelDate column into a proper datetime format. Using errors='coerce' will handle invalid dates by converting them to NaT (Not a Time)."
   ]
  },
  {
   "cell_type": "code",
   "execution_count": 13,
   "metadata": {},
   "outputs": [],
   "source": [
    "#ghazaleh\n",
    "# Convert the 'RelDate' column to datetime format to allow for easier analysis of dates\n",
    "metaClean['RelDate'] = pd.to_datetime(metaClean['RelDate'], errors='coerce')"
   ]
  },
  {
   "cell_type": "markdown",
   "metadata": {},
   "source": [
    "This code fills missing values in the studio column with \"Unknown\" to handle nulls without deleting rows."
   ]
  },
  {
   "cell_type": "code",
   "execution_count": 14,
   "metadata": {},
   "outputs": [],
   "source": [
    "#ghazaleh\n",
    "# Replace null values in the 'studio' column with 'Unknown'\n",
    "metaClean['studio'] = metaClean['studio'].fillna('Unknown')"
   ]
  },
  {
   "cell_type": "markdown",
   "metadata": {},
   "source": [
    "This code fills missing values in the cast column with \"Unknown\" to handle nulls without removing rows."
   ]
  },
  {
   "cell_type": "code",
   "execution_count": 15,
   "metadata": {},
   "outputs": [],
   "source": [
    "#ghazaleh\n",
    "# Replace null values in the 'cast' column with 'Unknown'\n",
    "metaClean['cast'] = metaClean['cast'].fillna('Unknown')"
   ]
  },
  {
   "cell_type": "markdown",
   "metadata": {},
   "source": [
    "This code fills missing values in the director column with \"Unknown\" to handle nulls without removing rows."
   ]
  },
  {
   "cell_type": "code",
   "execution_count": 16,
   "metadata": {},
   "outputs": [],
   "source": [
    "#ghazaleh\n",
    "# Replace null values in the 'director' column with 'Unknown'\n",
    "metaClean['director'] = metaClean['director'].fillna('Unknown')"
   ]
  }
 ],
 "metadata": {
  "kernelspec": {
   "display_name": "base",
   "language": "python",
   "name": "python3"
  },
  "language_info": {
   "codemirror_mode": {
    "name": "ipython",
    "version": 3
   },
   "file_extension": ".py",
   "mimetype": "text/x-python",
   "name": "python",
   "nbconvert_exporter": "python",
   "pygments_lexer": "ipython3",
   "version": "3.12.4"
  }
 },
 "nbformat": 4,
 "nbformat_minor": 2
}
