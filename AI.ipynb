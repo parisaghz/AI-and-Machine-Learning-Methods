{
 "cells": [
  {
   "cell_type": "markdown",
   "metadata": {},
   "source": [
    "## <span style=\"color:pink\">Import libraries</span>"
   ]
  },
  {
   "cell_type": "code",
   "execution_count": 2,
   "metadata": {},
   "outputs": [],
   "source": [
    "import pandas as pd\n",
    "import numpy as np "
   ]
  },
  {
   "cell_type": "markdown",
   "metadata": {},
   "source": [
    "## <span style=\"color:pink\">Reading datasets</span>"
   ]
  },
  {
   "cell_type": "code",
   "execution_count": 3,
   "metadata": {},
   "outputs": [
    {
     "name": "stdout",
     "output_type": "stream",
     "text": [
      "<class 'pandas.core.frame.DataFrame'>\n",
      "RangeIndex: 11364 entries, 0 to 11363\n",
      "Data columns (total 13 columns):\n",
      " #   Column     Non-Null Count  Dtype         \n",
      "---  ------     --------------  -----         \n",
      " 0   url        11364 non-null  object        \n",
      " 1   title      11364 non-null  object        \n",
      " 2   studio     11014 non-null  object        \n",
      " 3   rating     10297 non-null  object        \n",
      " 4   runtime    11109 non-null  float64       \n",
      " 5   cast       7662 non-null   object        \n",
      " 6   director   11350 non-null  object        \n",
      " 7   genre      11344 non-null  object        \n",
      " 8   summary    5467 non-null   object        \n",
      " 9   awards     4387 non-null   object        \n",
      " 10  metascore  11364 non-null  int64         \n",
      " 11  userscore  9259 non-null   float64       \n",
      " 12  RelDate    11364 non-null  datetime64[ns]\n",
      "dtypes: datetime64[ns](1), float64(2), int64(1), object(9)\n",
      "memory usage: 1.1+ MB\n"
     ]
    }
   ],
   "source": [
    "meta_clean = pd.read_excel('/Users/juliansmissaert/Desktop/AI METHODS PROJECT/metaClean.xlsx')\n",
    "meta_clean.info()"
   ]
  },
  {
   "cell_type": "code",
   "execution_count": 4,
   "metadata": {},
   "outputs": [
    {
     "name": "stdout",
     "output_type": "stream",
     "text": [
      "<class 'pandas.core.frame.DataFrame'>\n",
      "RangeIndex: 30612 entries, 0 to 30611\n",
      "Data columns (total 16 columns):\n",
      " #   Column                    Non-Null Count  Dtype  \n",
      "---  ------                    --------------  -----  \n",
      " 0   year                      30612 non-null  int64  \n",
      " 1   release_date              30612 non-null  object \n",
      " 2   title                     30604 non-null  object \n",
      " 3   genre                     28908 non-null  object \n",
      " 4   international_box_office  21575 non-null  float64\n",
      " 5   domestic_box_office       11884 non-null  float64\n",
      " 6   worldwide_box_office      21575 non-null  float64\n",
      " 7   production_budget         4480 non-null   float64\n",
      " 8   Unnamed: 8                0 non-null      float64\n",
      " 9   opening_weekend           10929 non-null  float64\n",
      " 10  theatre_count             10963 non-null  float64\n",
      " 11  avg run per theatre       10952 non-null  float64\n",
      " 12  runtime                   24559 non-null  float64\n",
      " 13  keywords                  12517 non-null  object \n",
      " 14  creative_type             26667 non-null  object \n",
      " 15  url                       30612 non-null  object \n",
      "dtypes: float64(9), int64(1), object(6)\n",
      "memory usage: 3.7+ MB\n"
     ]
    }
   ],
   "source": [
    "sales = pd.read_excel('/Users/juliansmissaert/Desktop/AI METHODS PROJECT/sales.xlsx')\n",
    "sales.info()"
   ]
  },
  {
   "cell_type": "code",
   "execution_count": 5,
   "metadata": {},
   "outputs": [
    {
     "name": "stdout",
     "output_type": "stream",
     "text": [
      "Number of movies with revenue above $100 million: 1312\n"
     ]
    }
   ],
   "source": [
    "# Filter movies with worldwide box office revenue above $100 million\n",
    "high_revenue_movies = sales[sales['worldwide_box_office'] > 100000000]\n",
    "\n",
    "# Count the number of movies\n",
    "num_high_revenue_movies = len(high_revenue_movies)\n",
    "\n",
    "# Print the result\n",
    "print(f\"Number of movies with revenue above $100 million: {num_high_revenue_movies}\")\n"
   ]
  },
  {
   "cell_type": "code",
   "execution_count": 6,
   "metadata": {},
   "outputs": [
    {
     "name": "stdout",
     "output_type": "stream",
     "text": [
      "Number of movies with worldwide box office sales: 21575\n"
     ]
    }
   ],
   "source": [
    "# Count the number of movies with non-null worldwide box office sales\n",
    "num_movies_with_sales = sales['worldwide_box_office'].notnull().sum()\n",
    "\n",
    "# Print the result\n",
    "print(f\"Number of movies with worldwide box office sales: {num_movies_with_sales}\")\n"
   ]
  },
  {
   "cell_type": "code",
   "execution_count": 7,
   "metadata": {},
   "outputs": [
    {
     "name": "stdout",
     "output_type": "stream",
     "text": [
      "<class 'pandas.core.frame.DataFrame'>\n",
      "RangeIndex: 319662 entries, 0 to 319661\n",
      "Data columns (total 7 columns):\n",
      " #   Column     Non-Null Count   Dtype \n",
      "---  ------     --------------   ----- \n",
      " 0   url        319662 non-null  object\n",
      " 1   idvscore   316258 non-null  object\n",
      " 2   reviewer   316255 non-null  object\n",
      " 3   dateP      316249 non-null  object\n",
      " 4   Rev        316249 non-null  object\n",
      " 5   thumbsUp   316082 non-null  object\n",
      " 6   thumbsTot  316086 non-null  object\n",
      "dtypes: object(7)\n",
      "memory usage: 17.1+ MB\n"
     ]
    }
   ],
   "source": [
    "user_reviews = pd.read_excel('/Users/juliansmissaert/Desktop/AI METHODS PROJECT/userReviews.xlsx')\n",
    "user_reviews.info()"
   ]
  },
  {
   "cell_type": "code",
   "execution_count": 8,
   "metadata": {},
   "outputs": [
    {
     "name": "stdout",
     "output_type": "stream",
     "text": [
      "<class 'pandas.core.frame.DataFrame'>\n",
      "RangeIndex: 238973 entries, 0 to 238972\n",
      "Data columns (total 5 columns):\n",
      " #   Column    Non-Null Count   Dtype  \n",
      "---  ------    --------------   -----  \n",
      " 0   url       238973 non-null  object \n",
      " 1   idvscore  238971 non-null  float64\n",
      " 2   reviewer  238971 non-null  object \n",
      " 3   dateP     238971 non-null  object \n",
      " 4   Rev       238971 non-null  object \n",
      "dtypes: float64(1), object(4)\n",
      "memory usage: 9.1+ MB\n"
     ]
    }
   ],
   "source": [
    "expert_reviews = pd.read_excel('/Users/juliansmissaert/Desktop/AI METHODS PROJECT/expertReviews.xlsx')\n",
    "expert_reviews.info()"
   ]
  },
  {
   "cell_type": "markdown",
   "metadata": {},
   "source": [
    "## <span style=\"color:pink\">EDA</span>"
   ]
  },
  {
   "cell_type": "code",
   "execution_count": 7,
   "metadata": {},
   "outputs": [
    {
     "data": {
      "text/html": [
       "<div>\n",
       "<style scoped>\n",
       "    .dataframe tbody tr th:only-of-type {\n",
       "        vertical-align: middle;\n",
       "    }\n",
       "\n",
       "    .dataframe tbody tr th {\n",
       "        vertical-align: top;\n",
       "    }\n",
       "\n",
       "    .dataframe thead th {\n",
       "        text-align: right;\n",
       "    }\n",
       "</style>\n",
       "<table border=\"1\" class=\"dataframe\">\n",
       "  <thead>\n",
       "    <tr style=\"text-align: right;\">\n",
       "      <th></th>\n",
       "      <th>url</th>\n",
       "      <th>idvscore</th>\n",
       "      <th>reviewer</th>\n",
       "      <th>dateP</th>\n",
       "      <th>Rev</th>\n",
       "    </tr>\n",
       "  </thead>\n",
       "  <tbody>\n",
       "    <tr>\n",
       "      <th>0</th>\n",
       "      <td>https://www.metacritic.com/movie/bronson</td>\n",
       "      <td>100.0</td>\n",
       "      <td>\"Andrew O'Hehir\"</td>\n",
       "      <td>None</td>\n",
       "      <td>'Bronson owes a little or a lot to Kubrick s ...</td>\n",
       "    </tr>\n",
       "    <tr>\n",
       "      <th>1</th>\n",
       "      <td>https://www.metacritic.com/movie/bronson</td>\n",
       "      <td>90.0</td>\n",
       "      <td>'A.O. Scott'</td>\n",
       "      <td>None</td>\n",
       "      <td>'Bronson invites you to admire its protagonis...</td>\n",
       "    </tr>\n",
       "    <tr>\n",
       "      <th>2</th>\n",
       "      <td>https://www.metacritic.com/movie/bronson</td>\n",
       "      <td>90.0</td>\n",
       "      <td>None</td>\n",
       "      <td>None</td>\n",
       "      <td>'Whether it s Peterson/Bronson s more theatri...</td>\n",
       "    </tr>\n",
       "    <tr>\n",
       "      <th>3</th>\n",
       "      <td>https://www.metacritic.com/movie/bronson</td>\n",
       "      <td>83.0</td>\n",
       "      <td>'Noel Murray'</td>\n",
       "      <td>None</td>\n",
       "      <td>'There are two Bronsons on display here: the ...</td>\n",
       "    </tr>\n",
       "    <tr>\n",
       "      <th>4</th>\n",
       "      <td>https://www.metacritic.com/movie/bronson</td>\n",
       "      <td>80.0</td>\n",
       "      <td>'Joshua Rothkopf'</td>\n",
       "      <td>None</td>\n",
       "      <td>'Refn has somehow found his way to an authent...</td>\n",
       "    </tr>\n",
       "  </tbody>\n",
       "</table>\n",
       "</div>"
      ],
      "text/plain": [
       "                                        url  idvscore            reviewer  \\\n",
       "0  https://www.metacritic.com/movie/bronson     100.0    \"Andrew O'Hehir\"   \n",
       "1  https://www.metacritic.com/movie/bronson      90.0        'A.O. Scott'   \n",
       "2  https://www.metacritic.com/movie/bronson      90.0                None   \n",
       "3  https://www.metacritic.com/movie/bronson      83.0       'Noel Murray'   \n",
       "4  https://www.metacritic.com/movie/bronson      80.0   'Joshua Rothkopf'   \n",
       "\n",
       "   dateP                                                Rev  \n",
       "0   None   'Bronson owes a little or a lot to Kubrick s ...  \n",
       "1   None   'Bronson invites you to admire its protagonis...  \n",
       "2   None   'Whether it s Peterson/Bronson s more theatri...  \n",
       "3   None   'There are two Bronsons on display here: the ...  \n",
       "4   None   'Refn has somehow found his way to an authent...  "
      ]
     },
     "execution_count": 7,
     "metadata": {},
     "output_type": "execute_result"
    }
   ],
   "source": [
    "expert_reviews.head()"
   ]
  },
  {
   "cell_type": "markdown",
   "metadata": {},
   "source": [
    "##### julian"
   ]
  },
  {
   "cell_type": "code",
   "execution_count": 9,
   "metadata": {},
   "outputs": [
    {
     "data": {
      "text/html": [
       "<div>\n",
       "<style scoped>\n",
       "    .dataframe tbody tr th:only-of-type {\n",
       "        vertical-align: middle;\n",
       "    }\n",
       "\n",
       "    .dataframe tbody tr th {\n",
       "        vertical-align: top;\n",
       "    }\n",
       "\n",
       "    .dataframe thead th {\n",
       "        text-align: right;\n",
       "    }\n",
       "</style>\n",
       "<table border=\"1\" class=\"dataframe\">\n",
       "  <thead>\n",
       "    <tr style=\"text-align: right;\">\n",
       "      <th></th>\n",
       "      <th>url</th>\n",
       "      <th>idvscore</th>\n",
       "      <th>reviewer</th>\n",
       "      <th>dateP</th>\n",
       "      <th>Rev</th>\n",
       "      <th>thumbsUp</th>\n",
       "      <th>thumbsTot</th>\n",
       "    </tr>\n",
       "  </thead>\n",
       "  <tbody>\n",
       "    <tr>\n",
       "      <th>0</th>\n",
       "      <td>https://www.metacritic.com/movie/bronson</td>\n",
       "      <td>8</td>\n",
       "      <td>'Longbottom94'</td>\n",
       "      <td>'Apr 25, 2013'</td>\n",
       "      <td>'Many have dismissed this film for not explor...</td>\n",
       "      <td>2</td>\n",
       "      <td>2</td>\n",
       "    </tr>\n",
       "    <tr>\n",
       "      <th>1</th>\n",
       "      <td>https://www.metacritic.com/movie/bronson</td>\n",
       "      <td>9</td>\n",
       "      <td>'MartinB'</td>\n",
       "      <td>'Oct 13, 2009'</td>\n",
       "      <td>'Anyone who doesn t like this movie simply ju...</td>\n",
       "      <td>0</td>\n",
       "      <td>1</td>\n",
       "    </tr>\n",
       "    <tr>\n",
       "      <th>2</th>\n",
       "      <td>https://www.metacritic.com/movie/bronson</td>\n",
       "      <td>10</td>\n",
       "      <td>'Jaakko'</td>\n",
       "      <td>'Jul 19, 2012'</td>\n",
       "      <td>'Not sure what to think at this film at first...</td>\n",
       "      <td>1</td>\n",
       "      <td>1</td>\n",
       "    </tr>\n",
       "    <tr>\n",
       "      <th>3</th>\n",
       "      <td>https://www.metacritic.com/movie/bronson</td>\n",
       "      <td>6</td>\n",
       "      <td>'CapoR'</td>\n",
       "      <td>'Oct 13, 2009'</td>\n",
       "      <td>'Nicely portrayed but it lacks the elements t...</td>\n",
       "      <td>0</td>\n",
       "      <td>1</td>\n",
       "    </tr>\n",
       "    <tr>\n",
       "      <th>4</th>\n",
       "      <td>https://www.metacritic.com/movie/bronson</td>\n",
       "      <td>8</td>\n",
       "      <td>'OrwellB.'</td>\n",
       "      <td>'Oct 10, 2009'</td>\n",
       "      <td>'Bronson is more than entertainment. It is ar...</td>\n",
       "      <td>0</td>\n",
       "      <td>0</td>\n",
       "    </tr>\n",
       "  </tbody>\n",
       "</table>\n",
       "</div>"
      ],
      "text/plain": [
       "                                        url idvscore         reviewer  \\\n",
       "0  https://www.metacritic.com/movie/bronson        8   'Longbottom94'   \n",
       "1  https://www.metacritic.com/movie/bronson        9        'MartinB'   \n",
       "2  https://www.metacritic.com/movie/bronson       10         'Jaakko'   \n",
       "3  https://www.metacritic.com/movie/bronson        6          'CapoR'   \n",
       "4  https://www.metacritic.com/movie/bronson        8       'OrwellB.'   \n",
       "\n",
       "             dateP                                                Rev  \\\n",
       "0   'Apr 25, 2013'   'Many have dismissed this film for not explor...   \n",
       "1   'Oct 13, 2009'   'Anyone who doesn t like this movie simply ju...   \n",
       "2   'Jul 19, 2012'   'Not sure what to think at this film at first...   \n",
       "3   'Oct 13, 2009'   'Nicely portrayed but it lacks the elements t...   \n",
       "4   'Oct 10, 2009'   'Bronson is more than entertainment. It is ar...   \n",
       "\n",
       "  thumbsUp thumbsTot  \n",
       "0        2         2  \n",
       "1        0         1  \n",
       "2        1         1  \n",
       "3        0         1  \n",
       "4        0         0  "
      ]
     },
     "execution_count": 9,
     "metadata": {},
     "output_type": "execute_result"
    }
   ],
   "source": [
    "user_reviews.head()"
   ]
  },
  {
   "cell_type": "code",
   "execution_count": null,
   "metadata": {},
   "outputs": [],
   "source": []
  }
 ],
 "metadata": {
  "kernelspec": {
   "display_name": "introduction",
   "language": "python",
   "name": "python3"
  },
  "language_info": {
   "codemirror_mode": {
    "name": "ipython",
    "version": 3
   },
   "file_extension": ".py",
   "mimetype": "text/x-python",
   "name": "python",
   "nbconvert_exporter": "python",
   "pygments_lexer": "ipython3",
   "version": "3.11.9"
  }
 },
 "nbformat": 4,
 "nbformat_minor": 2
}
