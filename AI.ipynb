{
 "cells": [
  {
   "cell_type": "markdown",
   "metadata": {},
   "source": [
    "## <span style=\"color:pink\">Import libraries</span>"
   ]
  },
  {
   "cell_type": "code",
   "execution_count": 2,
   "metadata": {},
   "outputs": [],
   "source": [
    "import pandas as pd\n",
    "import numpy as np "
   ]
  },
  {
   "cell_type": "markdown",
   "metadata": {},
   "source": [
    "## <span style=\"color:pink\">Reading datasets</span>"
   ]
  },
  {
   "cell_type": "code",
   "execution_count": 3,
   "metadata": {},
   "outputs": [
    {
     "name": "stdout",
     "output_type": "stream",
     "text": [
      "<class 'pandas.core.frame.DataFrame'>\n",
      "RangeIndex: 11364 entries, 0 to 11363\n",
      "Data columns (total 13 columns):\n",
      " #   Column     Non-Null Count  Dtype         \n",
      "---  ------     --------------  -----         \n",
      " 0   url        11364 non-null  object        \n",
      " 1   title      11364 non-null  object        \n",
      " 2   studio     11014 non-null  object        \n",
      " 3   rating     10297 non-null  object        \n",
      " 4   runtime    11109 non-null  float64       \n",
      " 5   cast       7662 non-null   object        \n",
      " 6   director   11350 non-null  object        \n",
      " 7   genre      11344 non-null  object        \n",
      " 8   summary    5467 non-null   object        \n",
      " 9   awards     4387 non-null   object        \n",
      " 10  metascore  11364 non-null  int64         \n",
      " 11  userscore  9259 non-null   float64       \n",
      " 12  RelDate    11364 non-null  datetime64[ns]\n",
      "dtypes: datetime64[ns](1), float64(2), int64(1), object(9)\n",
      "memory usage: 1.1+ MB\n"
     ]
    }
   ],
   "source": [
    "meta_clean = pd.read_excel('/Users/parisa/Desktop/AI/Final_Assignment/metaClean.xlsx')\n",
    "meta_clean.info()"
   ]
  },
  {
   "cell_type": "code",
   "execution_count": 4,
   "metadata": {},
   "outputs": [
    {
     "name": "stdout",
     "output_type": "stream",
     "text": [
      "<class 'pandas.core.frame.DataFrame'>\n",
      "RangeIndex: 30612 entries, 0 to 30611\n",
      "Data columns (total 16 columns):\n",
      " #   Column                    Non-Null Count  Dtype  \n",
      "---  ------                    --------------  -----  \n",
      " 0   year                      30612 non-null  int64  \n",
      " 1   release_date              30612 non-null  object \n",
      " 2   title                     30604 non-null  object \n",
      " 3   genre                     28908 non-null  object \n",
      " 4   international_box_office  21575 non-null  float64\n",
      " 5   domestic_box_office       11884 non-null  float64\n",
      " 6   worldwide_box_office      21575 non-null  float64\n",
      " 7   production_budget         4480 non-null   float64\n",
      " 8   Unnamed: 8                0 non-null      float64\n",
      " 9   opening_weekend           10929 non-null  float64\n",
      " 10  theatre_count             10963 non-null  float64\n",
      " 11  avg run per theatre       10952 non-null  float64\n",
      " 12  runtime                   24559 non-null  float64\n",
      " 13  keywords                  12517 non-null  object \n",
      " 14  creative_type             26667 non-null  object \n",
      " 15  url                       30612 non-null  object \n",
      "dtypes: float64(9), int64(1), object(6)\n",
      "memory usage: 3.7+ MB\n"
     ]
    }
   ],
   "source": [
    "sales = pd.read_excel('/Users/parisa/Desktop/AI/Final_Assignment/sales.xlsx')\n",
    "sales.info()"
   ]
  },
  {
   "cell_type": "code",
   "execution_count": 5,
   "metadata": {},
   "outputs": [
    {
     "name": "stdout",
     "output_type": "stream",
     "text": [
      "<class 'pandas.core.frame.DataFrame'>\n",
      "RangeIndex: 319662 entries, 0 to 319661\n",
      "Data columns (total 7 columns):\n",
      " #   Column     Non-Null Count   Dtype \n",
      "---  ------     --------------   ----- \n",
      " 0   url        319662 non-null  object\n",
      " 1   idvscore   316258 non-null  object\n",
      " 2   reviewer   316255 non-null  object\n",
      " 3   dateP      316249 non-null  object\n",
      " 4   Rev        316249 non-null  object\n",
      " 5   thumbsUp   316082 non-null  object\n",
      " 6   thumbsTot  316086 non-null  object\n",
      "dtypes: object(7)\n",
      "memory usage: 17.1+ MB\n"
     ]
    }
   ],
   "source": [
    "user_reviews = pd.read_excel('/Users/parisa/Desktop/AI/Final_Assignment/userReviews.xlsx')\n",
    "user_reviews.info()"
   ]
  },
  {
   "cell_type": "code",
   "execution_count": 6,
   "metadata": {},
   "outputs": [
    {
     "name": "stdout",
     "output_type": "stream",
     "text": [
      "<class 'pandas.core.frame.DataFrame'>\n",
      "RangeIndex: 238973 entries, 0 to 238972\n",
      "Data columns (total 5 columns):\n",
      " #   Column    Non-Null Count   Dtype  \n",
      "---  ------    --------------   -----  \n",
      " 0   url       238973 non-null  object \n",
      " 1   idvscore  238971 non-null  float64\n",
      " 2   reviewer  238971 non-null  object \n",
      " 3   dateP     238971 non-null  object \n",
      " 4   Rev       238971 non-null  object \n",
      "dtypes: float64(1), object(4)\n",
      "memory usage: 9.1+ MB\n"
     ]
    }
   ],
   "source": [
    "expert_reviews = pd.read_excel('/Users/parisa/Desktop/AI/Final_Assignment/expertReviews.xlsx')\n",
    "expert_reviews.info()"
   ]
  },
  {
   "cell_type": "markdown",
   "metadata": {},
   "source": [
    "## <span style=\"color:pink\">EDA</span>\n",
    "\n",
    "I add this for test the push functions guysssss."
   ]
  },
  {
   "cell_type": "code",
   "execution_count": 7,
   "metadata": {},
   "outputs": [
    {
     "name": "stdout",
     "output_type": "stream",
     "text": [
      "                                                 url                  title  \\\n",
      "0  https://www.metacritic.com/movie/!women-art-re...  !Women Art Revolution   \n",
      "1  https://www.metacritic.com/movie/10-cloverfiel...    10 Cloverfield Lane   \n",
      "2  https://www.metacritic.com/movie/10-items-or-less       10 Items or Less   \n",
      "3          https://www.metacritic.com/movie/10-years               10 Years   \n",
      "4  https://www.metacritic.com/movie/100-bloody-acres       100 Bloody Acres   \n",
      "\n",
      "                     studio       rating  runtime  \\\n",
      "0       Hotwire Productions  | Not Rated     83.0   \n",
      "1        Paramount Pictures      | PG-13    104.0   \n",
      "2                Click Star          | R     82.0   \n",
      "3  Anchor Bay Entertainment          | R    100.0   \n",
      "4           Music Box Films  | Not Rated     91.0   \n",
      "\n",
      "                                                cast              director  \\\n",
      "0                                                NaN  Lynn Hershman-Leeson   \n",
      "1  John Gallagher Jr.,John Goodman,Mary Elizabeth...      Dan Trachtenberg   \n",
      "2                 Jonah Hill,Morgan Freeman,Paz Vega       Brad Silberling   \n",
      "3             Channing Tatum,Chris Pratt,Jenna Dewan          Jamie Linden   \n",
      "4                                                NaN       Cameron Cairnes   \n",
      "\n",
      "                                         genre  \\\n",
      "0                                  Documentary   \n",
      "1  Action,Sci-Fi,Drama,Mystery,Thriller,Horror   \n",
      "2                         Drama,Comedy,Romance   \n",
      "3                         Drama,Comedy,Romance   \n",
      "4                                Horror,Comedy   \n",
      "\n",
      "                                             summary  \\\n",
      "0                                                NaN   \n",
      "1  Waking up from a car accident, a young woman (...   \n",
      "2  While researching a role as a supermarket mana...   \n",
      "3                                                NaN   \n",
      "4  Reg and Lindsay run an organic fertilizer busi...   \n",
      "\n",
      "                                              awards  metascore  userscore  \\\n",
      "0                                                NaN         70        NaN   \n",
      "1  #18MostDiscussedMovieof2016 , #1MostSharedMovi...         76        7.7   \n",
      "2                                                NaN         54        5.8   \n",
      "3                                                NaN         61        6.9   \n",
      "4                                                NaN         63        7.5   \n",
      "\n",
      "     RelDate  \n",
      "0 2011-06-01  \n",
      "1 2016-03-11  \n",
      "2 2006-12-01  \n",
      "3 2012-09-14  \n",
      "4 2013-06-28  \n"
     ]
    }
   ],
   "source": [
    "meta_clean_head = meta_clean.head()\n",
    "print(meta_clean_head)"
   ]
  }
 ],
 "metadata": {
  "kernelspec": {
   "display_name": "introduction",
   "language": "python",
   "name": "python3"
  },
  "language_info": {
   "codemirror_mode": {
    "name": "ipython",
    "version": 3
   },
   "file_extension": ".py",
   "mimetype": "text/x-python",
   "name": "python",
   "nbconvert_exporter": "python",
   "pygments_lexer": "ipython3",
   "version": "3.11.9"
  }
 },
 "nbformat": 4,
 "nbformat_minor": 2
}
