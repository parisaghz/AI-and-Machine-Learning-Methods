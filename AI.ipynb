{
 "cells": [
  {
   "cell_type": "markdown",
   "metadata": {},
   "source": [
    "## <span style=\"color:pink\">Import libraries</span>"
   ]
  },
  {
   "cell_type": "code",
   "execution_count": 1,
   "metadata": {},
   "outputs": [],
   "source": [
    "import pandas as pd\n",
    "import numpy as np \n",
    "import re\n",
    "from IPython.display import display\n"
   ]
  },
  {
   "cell_type": "markdown",
   "metadata": {},
   "source": [
    "## <span style=\"color:pink\">Reading the datasets</span>\n",
    "### Parisa - Ghazaleh"
   ]
  },
  {
   "cell_type": "code",
   "execution_count": 2,
   "metadata": {},
   "outputs": [
    {
     "name": "stdout",
     "output_type": "stream",
     "text": [
      "<class 'pandas.core.frame.DataFrame'>\n",
      "RangeIndex: 11364 entries, 0 to 11363\n",
      "Data columns (total 9 columns):\n",
      " #   Column    Non-Null Count  Dtype         \n",
      "---  ------    --------------  -----         \n",
      " 0   url       11364 non-null  object        \n",
      " 1   studio    11364 non-null  object        \n",
      " 2   rating    11364 non-null  object        \n",
      " 3   runtime   11364 non-null  int64         \n",
      " 4   cast      11364 non-null  object        \n",
      " 5   director  11364 non-null  object        \n",
      " 6   summary   5467 non-null   object        \n",
      " 7   RelDate   11364 non-null  datetime64[ns]\n",
      " 8   Season    11364 non-null  object        \n",
      "dtypes: datetime64[ns](1), int64(1), object(7)\n",
      "memory usage: 799.2+ KB\n"
     ]
    }
   ],
   "source": [
    "meta_clean = pd.read_excel('/Users/parisa/Desktop/AI/Final_Assignment/metaClean.xlsx')\n",
    "meta_clean.info()"
   ]
  },
  {
   "cell_type": "code",
   "execution_count": 3,
   "metadata": {},
   "outputs": [
    {
     "data": {
      "text/html": [
       "<div>\n",
       "<style scoped>\n",
       "    .dataframe tbody tr th:only-of-type {\n",
       "        vertical-align: middle;\n",
       "    }\n",
       "\n",
       "    .dataframe tbody tr th {\n",
       "        vertical-align: top;\n",
       "    }\n",
       "\n",
       "    .dataframe thead th {\n",
       "        text-align: right;\n",
       "    }\n",
       "</style>\n",
       "<table border=\"1\" class=\"dataframe\">\n",
       "  <thead>\n",
       "    <tr style=\"text-align: right;\">\n",
       "      <th></th>\n",
       "      <th>url</th>\n",
       "      <th>studio</th>\n",
       "      <th>rating</th>\n",
       "      <th>runtime</th>\n",
       "      <th>cast</th>\n",
       "      <th>director</th>\n",
       "      <th>summary</th>\n",
       "      <th>RelDate</th>\n",
       "      <th>Season</th>\n",
       "    </tr>\n",
       "  </thead>\n",
       "  <tbody>\n",
       "    <tr>\n",
       "      <th>0</th>\n",
       "      <td>https://www.metacritic.com/movie/!women-art-re...</td>\n",
       "      <td>Hotwire Productions</td>\n",
       "      <td>Not Rated</td>\n",
       "      <td>83</td>\n",
       "      <td>Unknown</td>\n",
       "      <td>Lynn Hershman-Leeson</td>\n",
       "      <td>NaN</td>\n",
       "      <td>2011-06-01</td>\n",
       "      <td>Summer</td>\n",
       "    </tr>\n",
       "    <tr>\n",
       "      <th>1</th>\n",
       "      <td>https://www.metacritic.com/movie/10-cloverfiel...</td>\n",
       "      <td>Paramount Pictures</td>\n",
       "      <td>PG-13</td>\n",
       "      <td>104</td>\n",
       "      <td>John Gallagher Jr.,John Goodman,Mary Elizabeth...</td>\n",
       "      <td>Dan Trachtenberg</td>\n",
       "      <td>Waking up from a car accident, a young woman (...</td>\n",
       "      <td>2016-03-11</td>\n",
       "      <td>Spring</td>\n",
       "    </tr>\n",
       "    <tr>\n",
       "      <th>2</th>\n",
       "      <td>https://www.metacritic.com/movie/10-items-or-less</td>\n",
       "      <td>Click Star</td>\n",
       "      <td>R</td>\n",
       "      <td>82</td>\n",
       "      <td>Jonah Hill,Morgan Freeman,Paz Vega</td>\n",
       "      <td>Brad Silberling</td>\n",
       "      <td>While researching a role as a supermarket mana...</td>\n",
       "      <td>2006-12-01</td>\n",
       "      <td>Winter</td>\n",
       "    </tr>\n",
       "    <tr>\n",
       "      <th>3</th>\n",
       "      <td>https://www.metacritic.com/movie/10-years</td>\n",
       "      <td>Anchor Bay Entertainment</td>\n",
       "      <td>R</td>\n",
       "      <td>100</td>\n",
       "      <td>Channing Tatum,Chris Pratt,Jenna Dewan</td>\n",
       "      <td>Jamie Linden</td>\n",
       "      <td>NaN</td>\n",
       "      <td>2012-09-14</td>\n",
       "      <td>Fall</td>\n",
       "    </tr>\n",
       "    <tr>\n",
       "      <th>4</th>\n",
       "      <td>https://www.metacritic.com/movie/100-bloody-acres</td>\n",
       "      <td>Music Box Films</td>\n",
       "      <td>Not Rated</td>\n",
       "      <td>91</td>\n",
       "      <td>Unknown</td>\n",
       "      <td>Cameron Cairnes</td>\n",
       "      <td>Reg and Lindsay run an organic fertilizer busi...</td>\n",
       "      <td>2013-06-28</td>\n",
       "      <td>Summer</td>\n",
       "    </tr>\n",
       "    <tr>\n",
       "      <th>5</th>\n",
       "      <td>https://www.metacritic.com/movie/100-streets</td>\n",
       "      <td>Samuel Goldwyn Films</td>\n",
       "      <td>Not Rated</td>\n",
       "      <td>93</td>\n",
       "      <td>Unknown</td>\n",
       "      <td>Jim O'Hanlon</td>\n",
       "      <td>NaN</td>\n",
       "      <td>2017-01-13</td>\n",
       "      <td>Winter</td>\n",
       "    </tr>\n",
       "    <tr>\n",
       "      <th>6</th>\n",
       "      <td>https://www.metacritic.com/movie/1000-times-go...</td>\n",
       "      <td>Film Movement</td>\n",
       "      <td>Not Rated</td>\n",
       "      <td>117</td>\n",
       "      <td>Unknown</td>\n",
       "      <td>Erik Poppe</td>\n",
       "      <td>NaN</td>\n",
       "      <td>2014-10-24</td>\n",
       "      <td>Fall</td>\n",
       "    </tr>\n",
       "    <tr>\n",
       "      <th>7</th>\n",
       "      <td>https://www.metacritic.com/movie/10000-bc</td>\n",
       "      <td>Warner Bros. Pictures</td>\n",
       "      <td>PG-13</td>\n",
       "      <td>109</td>\n",
       "      <td>Camilla Belle,Marco Khan,Steven Strait</td>\n",
       "      <td>Roland Emmerich</td>\n",
       "      <td>NaN</td>\n",
       "      <td>2008-03-07</td>\n",
       "      <td>Spring</td>\n",
       "    </tr>\n",
       "    <tr>\n",
       "      <th>8</th>\n",
       "      <td>https://www.metacritic.com/movie/10000-km</td>\n",
       "      <td>Broad Green Pictures</td>\n",
       "      <td>R</td>\n",
       "      <td>99</td>\n",
       "      <td>Unknown</td>\n",
       "      <td>Carlos Marques-Marcet</td>\n",
       "      <td>Two people in love, two apartments - one in Ba...</td>\n",
       "      <td>2015-07-10</td>\n",
       "      <td>Summer</td>\n",
       "    </tr>\n",
       "    <tr>\n",
       "      <th>9</th>\n",
       "      <td>https://www.metacritic.com/movie/1001-grams</td>\n",
       "      <td>Kino Lorber</td>\n",
       "      <td>Not Rated</td>\n",
       "      <td>93</td>\n",
       "      <td>Unknown</td>\n",
       "      <td>Bent Hamer</td>\n",
       "      <td>When Norwegian scientist Marie attends a semin...</td>\n",
       "      <td>2015-05-08</td>\n",
       "      <td>Spring</td>\n",
       "    </tr>\n",
       "  </tbody>\n",
       "</table>\n",
       "</div>"
      ],
      "text/plain": [
       "                                                 url  \\\n",
       "0  https://www.metacritic.com/movie/!women-art-re...   \n",
       "1  https://www.metacritic.com/movie/10-cloverfiel...   \n",
       "2  https://www.metacritic.com/movie/10-items-or-less   \n",
       "3          https://www.metacritic.com/movie/10-years   \n",
       "4  https://www.metacritic.com/movie/100-bloody-acres   \n",
       "5       https://www.metacritic.com/movie/100-streets   \n",
       "6  https://www.metacritic.com/movie/1000-times-go...   \n",
       "7          https://www.metacritic.com/movie/10000-bc   \n",
       "8          https://www.metacritic.com/movie/10000-km   \n",
       "9        https://www.metacritic.com/movie/1001-grams   \n",
       "\n",
       "                     studio     rating  runtime  \\\n",
       "0       Hotwire Productions  Not Rated       83   \n",
       "1        Paramount Pictures      PG-13      104   \n",
       "2                Click Star          R       82   \n",
       "3  Anchor Bay Entertainment          R      100   \n",
       "4           Music Box Films  Not Rated       91   \n",
       "5      Samuel Goldwyn Films  Not Rated       93   \n",
       "6             Film Movement  Not Rated      117   \n",
       "7     Warner Bros. Pictures      PG-13      109   \n",
       "8      Broad Green Pictures          R       99   \n",
       "9               Kino Lorber  Not Rated       93   \n",
       "\n",
       "                                                cast               director  \\\n",
       "0                                            Unknown   Lynn Hershman-Leeson   \n",
       "1  John Gallagher Jr.,John Goodman,Mary Elizabeth...       Dan Trachtenberg   \n",
       "2                 Jonah Hill,Morgan Freeman,Paz Vega        Brad Silberling   \n",
       "3             Channing Tatum,Chris Pratt,Jenna Dewan           Jamie Linden   \n",
       "4                                            Unknown        Cameron Cairnes   \n",
       "5                                            Unknown           Jim O'Hanlon   \n",
       "6                                            Unknown             Erik Poppe   \n",
       "7             Camilla Belle,Marco Khan,Steven Strait        Roland Emmerich   \n",
       "8                                            Unknown  Carlos Marques-Marcet   \n",
       "9                                            Unknown             Bent Hamer   \n",
       "\n",
       "                                             summary    RelDate  Season  \n",
       "0                                                NaN 2011-06-01  Summer  \n",
       "1  Waking up from a car accident, a young woman (... 2016-03-11  Spring  \n",
       "2  While researching a role as a supermarket mana... 2006-12-01  Winter  \n",
       "3                                                NaN 2012-09-14    Fall  \n",
       "4  Reg and Lindsay run an organic fertilizer busi... 2013-06-28  Summer  \n",
       "5                                                NaN 2017-01-13  Winter  \n",
       "6                                                NaN 2014-10-24    Fall  \n",
       "7                                                NaN 2008-03-07  Spring  \n",
       "8  Two people in love, two apartments - one in Ba... 2015-07-10  Summer  \n",
       "9  When Norwegian scientist Marie attends a semin... 2015-05-08  Spring  "
      ]
     },
     "execution_count": 3,
     "metadata": {},
     "output_type": "execute_result"
    }
   ],
   "source": [
    "meta_clean.head(10)"
   ]
  },
  {
   "cell_type": "markdown",
   "metadata": {},
   "source": [
    "## <span style=\"color:pink\">Cleaning the datasets</span>\n",
    "### Parisa"
   ]
  },
  {
   "cell_type": "markdown",
   "metadata": {},
   "source": [
    "### The title column is cleaned by extracting the movie title from the url column. \n",
    "### This improves the dataset's readability and ensures the title column is clean for analysis."
   ]
  },
  {
   "cell_type": "code",
   "execution_count": 4,
   "metadata": {},
   "outputs": [
    {
     "name": "stdout",
     "output_type": "stream",
     "text": [
      "                                                 url                  title\n",
      "0  https://www.metacritic.com/movie/!women-art-re...  !Women Art Revolution\n",
      "1  https://www.metacritic.com/movie/10-cloverfiel...    10 Cloverfield Lane\n",
      "2  https://www.metacritic.com/movie/10-items-or-less       10 Items Or Less\n",
      "3          https://www.metacritic.com/movie/10-years               10 Years\n",
      "4  https://www.metacritic.com/movie/100-bloody-acres       100 Bloody Acres\n",
      "5       https://www.metacritic.com/movie/100-streets            100 Streets\n",
      "6  https://www.metacritic.com/movie/1000-times-go...  1000 Times Good Night\n",
      "7          https://www.metacritic.com/movie/10000-bc               10000 Bc\n",
      "8          https://www.metacritic.com/movie/10000-km               10000 Km\n",
      "9        https://www.metacritic.com/movie/1001-grams             1001 Grams\n"
     ]
    }
   ],
   "source": [
    "# Extract title from url\n",
    "def extract_title(url):\n",
    "    # Get the part after the last '/'\n",
    "    raw_title = url.split('/')[-1]\n",
    "    # Replace hyphens with spaces\n",
    "    title = raw_title.replace('-', ' ')\n",
    "    # Capitalize the first letter of each word and retain special formatting\n",
    "    return re.sub(r'(\\d+:\\d+)|\\w+', lambda m: m.group().title(), title)\n",
    "\n",
    "# Apply the improved function to the 'url' column\n",
    "meta_clean['title'] = meta_clean['url'].apply(extract_title)\n",
    "\n",
    "# Save the updated dataset\n",
    "meta_clean.to_excel('/Users/parisa/Desktop/AI/Final_Assignment/metaClean.xlsx', index=False)\n",
    "\n",
    "print(meta_clean[['url', 'title']].head(10))\n"
   ]
  },
  {
   "cell_type": "markdown",
   "metadata": {},
   "source": [
    "### The rating column is cleaned by:\n",
    "\n",
    "#### 1-Removing extra symbols like | and unnecessary spaces.\n",
    "#### 2-Replacing missing values with \"Not Rated\" to ensure consistency.\n",
    "#### 3-Standardizing the format for easier analysis."
   ]
  },
  {
   "cell_type": "code",
   "execution_count": 5,
   "metadata": {},
   "outputs": [
    {
     "name": "stdout",
     "output_type": "stream",
     "text": [
      "rating\n",
      "Not Rated    4027\n",
      "R            3515\n",
      "PG-13        2025\n",
      "PG            816\n",
      "Unrated       384\n",
      "TV-MA         200\n",
      "NR            128\n",
      "G             124\n",
      "TV-14          56\n",
      "NC-17          40\n",
      "TV-PG          23\n",
      "TV-G            7\n",
      "PG--13          5\n",
      "Open            5\n",
      "Approved        4\n",
      "M               2\n",
      "MA-17           1\n",
      "PG-13`          1\n",
      "M/PG            1\n",
      "Name: count, dtype: int64\n"
     ]
    }
   ],
   "source": [
    "# Remove unwanted symbols and clean formatting\n",
    "meta_clean['rating'] = meta_clean['rating'].str.replace('|', '', regex=False).str.strip()\n",
    "\n",
    "# Handle missing values\n",
    "meta_clean['rating'] = meta_clean['rating'].fillna('Not Rated')\n",
    "\n",
    "# Verify the cleaned column\n",
    "print(meta_clean['rating'].value_counts())\n",
    "\n",
    "# Save the updated dataset\n",
    "meta_clean.to_excel('/Users/parisa/Desktop/AI/Final_Assignment/metaClean.xlsx', index=False)\n"
   ]
  },
  {
   "cell_type": "markdown",
   "metadata": {},
   "source": [
    "### The runtime column is cleaned by:\n",
    "\n",
    "#### Filling missing values with the median "
   ]
  },
  {
   "cell_type": "code",
   "execution_count": 6,
   "metadata": {},
   "outputs": [
    {
     "name": "stdout",
     "output_type": "stream",
     "text": [
      "                                                 url  \\\n",
      "0  https://www.metacritic.com/movie/!women-art-re...   \n",
      "1  https://www.metacritic.com/movie/10-cloverfiel...   \n",
      "2  https://www.metacritic.com/movie/10-items-or-less   \n",
      "3          https://www.metacritic.com/movie/10-years   \n",
      "4  https://www.metacritic.com/movie/100-bloody-acres   \n",
      "\n",
      "                     studio     rating  runtime  \\\n",
      "0       Hotwire Productions  Not Rated       83   \n",
      "1        Paramount Pictures      PG-13      104   \n",
      "2                Click Star          R       82   \n",
      "3  Anchor Bay Entertainment          R      100   \n",
      "4           Music Box Films  Not Rated       91   \n",
      "\n",
      "                                                cast              director  \\\n",
      "0                                            Unknown  Lynn Hershman-Leeson   \n",
      "1  John Gallagher Jr.,John Goodman,Mary Elizabeth...      Dan Trachtenberg   \n",
      "2                 Jonah Hill,Morgan Freeman,Paz Vega       Brad Silberling   \n",
      "3             Channing Tatum,Chris Pratt,Jenna Dewan          Jamie Linden   \n",
      "4                                            Unknown       Cameron Cairnes   \n",
      "\n",
      "                                             summary    RelDate  Season  \\\n",
      "0                                                NaN 2011-06-01  Summer   \n",
      "1  Waking up from a car accident, a young woman (... 2016-03-11  Spring   \n",
      "2  While researching a role as a supermarket mana... 2006-12-01  Winter   \n",
      "3                                                NaN 2012-09-14    Fall   \n",
      "4  Reg and Lindsay run an organic fertilizer busi... 2013-06-28  Summer   \n",
      "\n",
      "                   title  \n",
      "0  !Women Art Revolution  \n",
      "1    10 Cloverfield Lane  \n",
      "2       10 Items Or Less  \n",
      "3               10 Years  \n",
      "4       100 Bloody Acres  \n"
     ]
    }
   ],
   "source": [
    "# Replace missing valuse with median\n",
    "median_runtime = meta_clean['runtime'].median()\n",
    "meta_clean['runtime'] = meta_clean['runtime'].fillna(median_runtime)\n",
    "\n",
    "meta_clean.to_excel('/Users/parisa/Desktop/AI/Final_Assignment/metaClean.xlsx', index=False)\n",
    "\n",
    "print(meta_clean.head())"
   ]
  },
  {
   "cell_type": "code",
   "execution_count": 7,
   "metadata": {},
   "outputs": [
    {
     "name": "stdout",
     "output_type": "stream",
     "text": [
      "0      Lynn Hershman-Leeson\n",
      "1          Dan Trachtenberg\n",
      "2           Brad Silberling\n",
      "3              Jamie Linden\n",
      "4           Cameron Cairnes\n",
      "5              Jim O'Hanlon\n",
      "6                Erik Poppe\n",
      "7           Roland Emmerich\n",
      "8     Carlos Marques-Marcet\n",
      "9                Bent Hamer\n",
      "10         Baltasar Kormkur\n",
      "11               Kevin Lima\n",
      "12           Robert Moresco\n",
      "13           Xiaoshuai Wang\n",
      "14        Jerzy Skolimowski\n",
      "15           Alison Klayman\n",
      "16         Nikita Mikhalkov\n",
      "17             Amir Bar-Lev\n",
      "18               Brea Grant\n",
      "19               Ty Roberts\n",
      "Name: director, dtype: object\n"
     ]
    }
   ],
   "source": [
    "# Clean special symbols using string replacement\n",
    "meta_clean['director'] = meta_clean['director'].str.replace(r'[^\\x00-\\x7F]+', '', regex=True)\n",
    "\n",
    "# Remove extra spaces\n",
    "meta_clean['director'] = meta_clean['director'].str.strip()\n",
    "\n",
    "print(meta_clean['director'].head(20))\n",
    "\n",
    "meta_clean.to_excel('/Users/parisa/Desktop/AI/Final_Assignment/metaClean.xlsx', index=False)\n"
   ]
  },
  {
   "cell_type": "markdown",
   "metadata": {},
   "source": [
    "### Ghazaleh"
   ]
  },
  {
   "cell_type": "markdown",
   "metadata": {},
   "source": [
    "\n",
    "We dropped the title column because we can extract the movie names from the url, and it may contain special characters or inconsistencies that could complicate the analysis."
   ]
  },
  {
   "cell_type": "code",
   "execution_count": 8,
   "metadata": {},
   "outputs": [],
   "source": [
    "# Drop the 'title' column, ensuring the name matches exactly\n",
    "meta_clean = meta_clean.drop(columns=['title'], errors='ignore')"
   ]
  },
  {
   "cell_type": "markdown",
   "metadata": {},
   "source": [
    "We drop the genre column because we will use the genre information from the sales dataset instead."
   ]
  },
  {
   "cell_type": "code",
   "execution_count": 9,
   "metadata": {},
   "outputs": [],
   "source": [
    "# Drop the 'genre' column\n",
    "meta_clean = meta_clean.drop(columns=['genre'], errors='ignore')"
   ]
  },
  {
   "cell_type": "markdown",
   "metadata": {},
   "source": [
    "We drop the awards column because it reflects post-release achievements and does not provide useful information for predicting whether a movie will be a blockbuster."
   ]
  },
  {
   "cell_type": "code",
   "execution_count": 10,
   "metadata": {},
   "outputs": [],
   "source": [
    "# Drop the 'awards' column\n",
    "meta_clean = meta_clean.drop(columns=['awards'], errors='ignore')"
   ]
  },
  {
   "cell_type": "markdown",
   "metadata": {},
   "source": [
    "We drop the metascore column because it shows critics' reviews after the movie is released, so it doesn’t help predict if the movie will be a blockbuster."
   ]
  },
  {
   "cell_type": "code",
   "execution_count": 11,
   "metadata": {},
   "outputs": [],
   "source": [
    "# Drop the 'metascore' column\n",
    "meta_clean = meta_clean.drop(columns=['metascore'], errors='ignore')"
   ]
  },
  {
   "cell_type": "markdown",
   "metadata": {},
   "source": [
    "We drop the userscore column because it shows audience reviews after the movie is released, so it doesn’t help predict if the movie will be a blockbuster."
   ]
  },
  {
   "cell_type": "code",
   "execution_count": 12,
   "metadata": {},
   "outputs": [],
   "source": [
    "# Drop the 'userscore' column\n",
    "meta_clean = meta_clean.drop(columns=['userscore'], errors='ignore')"
   ]
  },
  {
   "cell_type": "code",
   "execution_count": 13,
   "metadata": {},
   "outputs": [
    {
     "data": {
      "text/html": [
       "<div>\n",
       "<style scoped>\n",
       "    .dataframe tbody tr th:only-of-type {\n",
       "        vertical-align: middle;\n",
       "    }\n",
       "\n",
       "    .dataframe tbody tr th {\n",
       "        vertical-align: top;\n",
       "    }\n",
       "\n",
       "    .dataframe thead th {\n",
       "        text-align: right;\n",
       "    }\n",
       "</style>\n",
       "<table border=\"1\" class=\"dataframe\">\n",
       "  <thead>\n",
       "    <tr style=\"text-align: right;\">\n",
       "      <th></th>\n",
       "      <th>url</th>\n",
       "      <th>studio</th>\n",
       "      <th>rating</th>\n",
       "      <th>runtime</th>\n",
       "      <th>cast</th>\n",
       "      <th>director</th>\n",
       "      <th>summary</th>\n",
       "      <th>RelDate</th>\n",
       "      <th>Season</th>\n",
       "    </tr>\n",
       "  </thead>\n",
       "  <tbody>\n",
       "    <tr>\n",
       "      <th>0</th>\n",
       "      <td>https://www.metacritic.com/movie/!women-art-re...</td>\n",
       "      <td>Hotwire Productions</td>\n",
       "      <td>Not Rated</td>\n",
       "      <td>83</td>\n",
       "      <td>Unknown</td>\n",
       "      <td>Lynn Hershman-Leeson</td>\n",
       "      <td>NaN</td>\n",
       "      <td>2011-06-01</td>\n",
       "      <td>Summer</td>\n",
       "    </tr>\n",
       "    <tr>\n",
       "      <th>1</th>\n",
       "      <td>https://www.metacritic.com/movie/10-cloverfiel...</td>\n",
       "      <td>Paramount Pictures</td>\n",
       "      <td>PG-13</td>\n",
       "      <td>104</td>\n",
       "      <td>John Gallagher Jr.,John Goodman,Mary Elizabeth...</td>\n",
       "      <td>Dan Trachtenberg</td>\n",
       "      <td>Waking up from a car accident, a young woman (...</td>\n",
       "      <td>2016-03-11</td>\n",
       "      <td>Spring</td>\n",
       "    </tr>\n",
       "    <tr>\n",
       "      <th>2</th>\n",
       "      <td>https://www.metacritic.com/movie/10-items-or-less</td>\n",
       "      <td>Click Star</td>\n",
       "      <td>R</td>\n",
       "      <td>82</td>\n",
       "      <td>Jonah Hill,Morgan Freeman,Paz Vega</td>\n",
       "      <td>Brad Silberling</td>\n",
       "      <td>While researching a role as a supermarket mana...</td>\n",
       "      <td>2006-12-01</td>\n",
       "      <td>Winter</td>\n",
       "    </tr>\n",
       "    <tr>\n",
       "      <th>3</th>\n",
       "      <td>https://www.metacritic.com/movie/10-years</td>\n",
       "      <td>Anchor Bay Entertainment</td>\n",
       "      <td>R</td>\n",
       "      <td>100</td>\n",
       "      <td>Channing Tatum,Chris Pratt,Jenna Dewan</td>\n",
       "      <td>Jamie Linden</td>\n",
       "      <td>NaN</td>\n",
       "      <td>2012-09-14</td>\n",
       "      <td>Fall</td>\n",
       "    </tr>\n",
       "    <tr>\n",
       "      <th>4</th>\n",
       "      <td>https://www.metacritic.com/movie/100-bloody-acres</td>\n",
       "      <td>Music Box Films</td>\n",
       "      <td>Not Rated</td>\n",
       "      <td>91</td>\n",
       "      <td>Unknown</td>\n",
       "      <td>Cameron Cairnes</td>\n",
       "      <td>Reg and Lindsay run an organic fertilizer busi...</td>\n",
       "      <td>2013-06-28</td>\n",
       "      <td>Summer</td>\n",
       "    </tr>\n",
       "  </tbody>\n",
       "</table>\n",
       "</div>"
      ],
      "text/plain": [
       "                                                 url  \\\n",
       "0  https://www.metacritic.com/movie/!women-art-re...   \n",
       "1  https://www.metacritic.com/movie/10-cloverfiel...   \n",
       "2  https://www.metacritic.com/movie/10-items-or-less   \n",
       "3          https://www.metacritic.com/movie/10-years   \n",
       "4  https://www.metacritic.com/movie/100-bloody-acres   \n",
       "\n",
       "                     studio     rating  runtime  \\\n",
       "0       Hotwire Productions  Not Rated       83   \n",
       "1        Paramount Pictures      PG-13      104   \n",
       "2                Click Star          R       82   \n",
       "3  Anchor Bay Entertainment          R      100   \n",
       "4           Music Box Films  Not Rated       91   \n",
       "\n",
       "                                                cast              director  \\\n",
       "0                                            Unknown  Lynn Hershman-Leeson   \n",
       "1  John Gallagher Jr.,John Goodman,Mary Elizabeth...      Dan Trachtenberg   \n",
       "2                 Jonah Hill,Morgan Freeman,Paz Vega       Brad Silberling   \n",
       "3             Channing Tatum,Chris Pratt,Jenna Dewan          Jamie Linden   \n",
       "4                                            Unknown       Cameron Cairnes   \n",
       "\n",
       "                                             summary    RelDate  Season  \n",
       "0                                                NaN 2011-06-01  Summer  \n",
       "1  Waking up from a car accident, a young woman (... 2016-03-11  Spring  \n",
       "2  While researching a role as a supermarket mana... 2006-12-01  Winter  \n",
       "3                                                NaN 2012-09-14    Fall  \n",
       "4  Reg and Lindsay run an organic fertilizer busi... 2013-06-28  Summer  "
      ]
     },
     "metadata": {},
     "output_type": "display_data"
    }
   ],
   "source": [
    "# Display the first few rows of the dataset in a table format\n",
    "display(meta_clean.head())"
   ]
  },
  {
   "cell_type": "markdown",
   "metadata": {},
   "source": [
    "We convert the RelDate column into a proper datetime format. Using errors='coerce' will handle invalid dates by converting them to NaT (Not a Time)."
   ]
  },
  {
   "cell_type": "code",
   "execution_count": 14,
   "metadata": {},
   "outputs": [],
   "source": [
    "# Convert the 'RelDate' column to datetime format to allow for easier analysis of dates\n",
    "meta_clean['RelDate'] = pd.to_datetime(meta_clean['RelDate'], errors='coerce')"
   ]
  },
  {
   "cell_type": "markdown",
   "metadata": {},
   "source": [
    "This code fills missing values in the studio column with \"Unknown\" to handle nulls without deleting rows."
   ]
  },
  {
   "cell_type": "code",
   "execution_count": 15,
   "metadata": {},
   "outputs": [],
   "source": [
    "# Replace null values in the 'studio' column with 'Unknown'\n",
    "meta_clean['studio'] = meta_clean['studio'].fillna('Unknown')"
   ]
  },
  {
   "cell_type": "markdown",
   "metadata": {},
   "source": [
    "This code fills missing values in the cast column with \"Unknown\" to handle nulls without removing rows."
   ]
  },
  {
   "cell_type": "code",
   "execution_count": 16,
   "metadata": {},
   "outputs": [],
   "source": [
    "# Replace null values in the 'cast' column with 'Unknown'\n",
    "meta_clean['cast'] = meta_clean['cast'].fillna('Unknown')"
   ]
  },
  {
   "cell_type": "markdown",
   "metadata": {},
   "source": [
    "This code fills missing values in the director column with \"Unknown\" to handle nulls without removing rows."
   ]
  },
  {
   "cell_type": "code",
   "execution_count": 17,
   "metadata": {},
   "outputs": [],
   "source": [
    "# Replace null values in the 'director' column with 'Unknown'\n",
    "meta_clean['director'] = meta_clean['director'].fillna('Unknown')"
   ]
  },
  {
   "cell_type": "markdown",
   "metadata": {},
   "source": [
    "This replaces missing runtime values with \"Unspecified\" to clearly indicate that the data is not available."
   ]
  },
  {
   "cell_type": "code",
   "execution_count": 18,
   "metadata": {},
   "outputs": [],
   "source": [
    "# Replace missing runtime values with 'Unspecified' to indicate the data is not provided\n",
    "meta_clean['runtime'] = meta_clean['runtime'].fillna('Unspecified')"
   ]
  },
  {
   "cell_type": "markdown",
   "metadata": {},
   "source": [
    "This code creates a new Season feature based on the release date. It extracts the month from the RelDate column and maps each month to a specific season: Winter, Spring, Summer, or Fall. If the month is missing or invalid, it is marked as 'Unknown'. Finally, the distribution of movies across seasons is calculated."
   ]
  },
  {
   "cell_type": "code",
   "execution_count": 19,
   "metadata": {},
   "outputs": [
    {
     "name": "stdout",
     "output_type": "stream",
     "text": [
      "Season\n",
      "Fall      3208\n",
      "Spring    2965\n",
      "Summer    2889\n",
      "Winter    2302\n",
      "Name: count, dtype: int64\n"
     ]
    }
   ],
   "source": [
    "# Define a function to map months to seasons\n",
    "def map_to_season(month):\n",
    "    if month in [12, 1, 2]:\n",
    "        return 'Winter'\n",
    "    elif month in [3, 4, 5]:\n",
    "        return 'Spring'\n",
    "    elif month in [6, 7, 8]:\n",
    "        return 'Summer'\n",
    "    elif month in [9, 10, 11]:\n",
    "        return 'Fall'\n",
    "    else:\n",
    "        return 'Unknown'\n",
    "\n",
    "# Extract the release month from the RelDate column\n",
    "meta_clean['ReleaseMonth'] = pd.to_datetime(meta_clean['RelDate'], errors='coerce').dt.month\n",
    "\n",
    "# Map the release month to seasons\n",
    "meta_clean['Season'] = meta_clean['ReleaseMonth'].apply(map_to_season)\n",
    "\n",
    "# Drop Release months\n",
    "meta_clean = meta_clean.drop(columns=['ReleaseMonth'], errors='ignore')\n",
    "\n",
    "# Check the distribution of seasons\n",
    "print(meta_clean['Season'].value_counts())\n"
   ]
  },
  {
   "cell_type": "code",
   "execution_count": 20,
   "metadata": {},
   "outputs": [],
   "source": [
    "#Save the cleaning dataset \n",
    "meta_clean.to_excel('/Users/parisa/Desktop/AI/Final_Assignment/metaClean.xlsx', index=False)"
   ]
  }
 ],
 "metadata": {
  "kernelspec": {
   "display_name": "introduction",
   "language": "python",
   "name": "python3"
  },
  "language_info": {
   "codemirror_mode": {
    "name": "ipython",
    "version": 3
   },
   "file_extension": ".py",
   "mimetype": "text/x-python",
   "name": "python",
   "nbconvert_exporter": "python",
   "pygments_lexer": "ipython3",
   "version": "3.11.9"
  }
 },
 "nbformat": 4,
 "nbformat_minor": 2
}
